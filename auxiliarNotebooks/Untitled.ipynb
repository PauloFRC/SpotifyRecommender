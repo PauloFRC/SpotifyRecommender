{
 "cells": [
  {
   "cell_type": "code",
   "execution_count": 1,
   "id": "348286ec",
   "metadata": {},
   "outputs": [],
   "source": [
    "import numpy as np\n",
    "import pandas as pd\n",
    "import json"
   ]
  },
  {
   "cell_type": "code",
   "execution_count": 2,
   "id": "4eeb22c3",
   "metadata": {},
   "outputs": [],
   "source": [
    "class SpotifyPlaylistDataset:\n",
    "    def __init__(self, verbose=True):\n",
    "        self.verbose = verbose\n",
    "        self.playlists = None\n",
    "        self.current_slice = 0\n",
    "        self._load_slice(0)\n",
    "        \n",
    "    def _load_slice(self, data_slice):\n",
    "        if self.verbose:\n",
    "            print(f\"Carregando dados da slice {data_slice*1000}-{data_slice*1000+999}\")\n",
    "        with open(f'../data/mpd.slice.{data_slice*1000}-{data_slice*1000+999}.json') as f:\n",
    "            self.playlists = json.load(f)['playlists']\n",
    "        self.current_slice = data_slice\n",
    "    \n",
    "    def read_playlist(self, index):\n",
    "        if not (self.current_slice*1000 <= index <= self.current_slice*1000+999):\n",
    "            self._load_slice(index//1000)\n",
    "        return self.playlists[index % 1000]\n",
    "    \n",
    "    def __len__(self):\n",
    "        return 1_000_000\n",
    "    \n",
    "        \n",
    "            "
   ]
  },
  {
   "cell_type": "code",
   "execution_count": 3,
   "id": "4a7d9321",
   "metadata": {},
   "outputs": [],
   "source": [
    "from scipy.sparse import csr_matrix, lil_matrix, save_npz, load_npz"
   ]
  },
  {
   "cell_type": "code",
   "execution_count": 4,
   "id": "d039bc44",
   "metadata": {},
   "outputs": [],
   "source": [
    "tracks = pd.read_csv('../tracks/tracks.csv')['id']"
   ]
  },
  {
   "cell_type": "code",
   "execution_count": 5,
   "id": "178d1261",
   "metadata": {},
   "outputs": [],
   "source": [
    "def create_sparse_matrix():\n",
    "    dataset = SpotifyPlaylistDataset()\n",
    "    sparse_matrix = lil_matrix((len(dataset), len(tracks)))\n",
    "    for i in range(10_000):\n",
    "        playlist = [track['track_uri'] for track in dataset.read_playlist(i)['tracks']]\n",
    "        for index in tracks[tracks.isin(playlist)].index:\n",
    "            sparse_matrix[i, index] = 1\n",
    "    return sparse_matrix"
   ]
  },
  {
   "cell_type": "code",
   "execution_count": 6,
   "id": "e356a907",
   "metadata": {},
   "outputs": [
    {
     "name": "stdout",
     "output_type": "stream",
     "text": [
      "Carregando dados da slice 0-999\n",
      "Carregando dados da slice 1000-1999\n",
      "Carregando dados da slice 2000-2999\n",
      "Carregando dados da slice 3000-3999\n",
      "Carregando dados da slice 4000-4999\n",
      "Carregando dados da slice 5000-5999\n",
      "Carregando dados da slice 6000-6999\n",
      "Carregando dados da slice 7000-7999\n",
      "Carregando dados da slice 8000-8999\n",
      "Carregando dados da slice 9000-9999\n"
     ]
    }
   ],
   "source": [
    "sm = csr_matrix(create_sparse_matrix())\n",
    "save_npz('sparse_matrix.npz', sm)"
   ]
  },
  {
   "cell_type": "code",
   "execution_count": 7,
   "id": "2f2f161b",
   "metadata": {},
   "outputs": [],
   "source": [
    "sm = load_npz('sparse_matrix.npz')"
   ]
  },
  {
   "cell_type": "code",
   "execution_count": 8,
   "id": "095cff8b",
   "metadata": {},
   "outputs": [
    {
     "data": {
      "text/plain": [
       "<1000000x2261616 sparse matrix of type '<class 'numpy.float64'>'\n",
       "\twith 656134 stored elements in Compressed Sparse Row format>"
      ]
     },
     "execution_count": 8,
     "metadata": {},
     "output_type": "execute_result"
    }
   ],
   "source": [
    "sm"
   ]
  },
  {
   "cell_type": "code",
   "execution_count": 16,
   "id": "084f3e03",
   "metadata": {},
   "outputs": [],
   "source": [
    "from sklearn.metrics import pairwise_distances"
   ]
  },
  {
   "cell_type": "code",
   "execution_count": 48,
   "id": "bebb9c90",
   "metadata": {},
   "outputs": [
    {
     "data": {
      "text/plain": [
       "<1x2261616 sparse matrix of type '<class 'numpy.float64'>'\n",
       "\twith 17 stored elements in Compressed Sparse Row format>"
      ]
     },
     "execution_count": 48,
     "metadata": {},
     "output_type": "execute_result"
    }
   ],
   "source": [
    "sm[1020]"
   ]
  },
  {
   "cell_type": "code",
   "execution_count": 58,
   "id": "39459ad8",
   "metadata": {},
   "outputs": [
    {
     "data": {
      "text/plain": [
       "array([[  1020,   7224,    885, ..., 333342, 333344, 999999]])"
      ]
     },
     "execution_count": 58,
     "metadata": {},
     "output_type": "execute_result"
    }
   ],
   "source": [
    "argsort = np.argsort(pairwise_distances(sm[1020],sm, metric='cosine'))\n",
    "argsort"
   ]
  },
  {
   "cell_type": "code",
   "execution_count": 56,
   "id": "9c9ec6b3",
   "metadata": {},
   "outputs": [
    {
     "name": "stdout",
     "output_type": "stream",
     "text": [
      "Carregando dados da slice 0-999\n",
      "Carregando dados da slice 1000-1999\n"
     ]
    },
    {
     "data": {
      "text/plain": [
       "{'name': 'vaporwave',\n",
       " 'collaborative': 'false',\n",
       " 'pid': 1020,\n",
       " 'modified_at': 1483056000,\n",
       " 'num_tracks': 17,\n",
       " 'num_albums': 15,\n",
       " 'num_followers': 1,\n",
       " 'tracks': [{'pos': 0,\n",
       "   'artist_name': 'Blank Banshee',\n",
       "   'track_uri': 'spotify:track:6NaPhrkmnrmo2dpW2HHyBk',\n",
       "   'artist_uri': 'spotify:artist:1oR9pQhucVTJyi5lH2Y2iT',\n",
       "   'track_name': 'Ammonia Clouds',\n",
       "   'album_uri': 'spotify:album:5AcOa8jiTLbwlBaIIbCjYn',\n",
       "   'duration_ms': 163282,\n",
       "   'album_name': 'Blank Banshee 0'},\n",
       "  {'pos': 1,\n",
       "   'artist_name': 'VAPERROR',\n",
       "   'track_uri': 'spotify:track:1XUTJKIdDGFTGgXJMppvrm',\n",
       "   'artist_uri': 'spotify:artist:0AEVuiJFczDd4dkmZh2Kha',\n",
       "   'track_name': 'Surf',\n",
       "   'album_uri': 'spotify:album:0sgm1uRNjgNSCggcnZfiR3',\n",
       "   'duration_ms': 130588,\n",
       "   'album_name': 'Mana Pool'},\n",
       "  {'pos': 2,\n",
       "   'artist_name': 'CYBEREALITYライフ',\n",
       "   'track_uri': 'spotify:track:2NKqrYeZC5uirATpR2CwMB',\n",
       "   'artist_uri': 'spotify:artist:5wxQkBn8VmHggkeH94BdYf',\n",
       "   'track_name': 'サービスのカタログ http\\u200b:\\u200b/\\u200b/\\u200bwww\\u200b.\\u200bvirtualresort\\u200b.\\u200borg',\n",
       "   'album_uri': 'spotify:album:7kW4XbYxzcR3ud7Kp6kzV7',\n",
       "   'duration_ms': 181500,\n",
       "   'album_name': 'v i r t u a l r e s o r t ™'},\n",
       "  {'pos': 3,\n",
       "   'artist_name': 'Gloomcvlt',\n",
       "   'track_uri': 'spotify:track:5JWrrntDt9Av9r4SWyTOkG',\n",
       "   'artist_uri': 'spotify:artist:6wglVx7cZslal7YZr5TUXG',\n",
       "   'track_name': 'Duff Huster',\n",
       "   'album_uri': 'spotify:album:1NLYPaN4CUV4SsYpORoDNw',\n",
       "   'duration_ms': 142027,\n",
       "   'album_name': 'Hostage'},\n",
       "  {'pos': 4,\n",
       "   'artist_name': 'Gloomcvlt',\n",
       "   'track_uri': 'spotify:track:121uL9YV3dp091ji4C1HHP',\n",
       "   'artist_uri': 'spotify:artist:6wglVx7cZslal7YZr5TUXG',\n",
       "   'track_name': 'Lux',\n",
       "   'album_uri': 'spotify:album:1NLYPaN4CUV4SsYpORoDNw',\n",
       "   'duration_ms': 84114,\n",
       "   'album_name': 'Hostage'},\n",
       "  {'pos': 5,\n",
       "   'artist_name': 'luxury elite',\n",
       "   'track_uri': 'spotify:track:2TjAHMFLFsKdXXqaePxwC6',\n",
       "   'artist_uri': 'spotify:artist:28516pIwBLUO62yBiLAfdI',\n",
       "   'track_name': 'Midnight',\n",
       "   'album_uri': 'spotify:album:0LOSJF9SLsu9UPamEbfkpj',\n",
       "   'duration_ms': 161278,\n",
       "   'album_name': 'With Love'},\n",
       "  {'pos': 6,\n",
       "   'artist_name': 'Persona La Ave',\n",
       "   'track_uri': 'spotify:track:5dCkoWsOEinbWWdBUlhk62',\n",
       "   'artist_uri': 'spotify:artist:2aE6UqkdSKchA6BgQXEwkj',\n",
       "   'track_name': 'Going Deaf',\n",
       "   'album_uri': 'spotify:album:3can4z9ePwDgIGpekGfvNz',\n",
       "   'duration_ms': 197647,\n",
       "   'album_name': 'Relation / Temptation'},\n",
       "  {'pos': 7,\n",
       "   'artist_name': 'Persona La Ave',\n",
       "   'track_uri': 'spotify:track:6DlVPM8fPknlQM2wzp3aX9',\n",
       "   'artist_uri': 'spotify:artist:2aE6UqkdSKchA6BgQXEwkj',\n",
       "   'track_name': 'Special Boys',\n",
       "   'album_uri': 'spotify:album:3can4z9ePwDgIGpekGfvNz',\n",
       "   'duration_ms': 226516,\n",
       "   'album_name': 'Relation / Temptation'},\n",
       "  {'pos': 8,\n",
       "   'artist_name': 'Infinity Frequencies',\n",
       "   'track_uri': 'spotify:track:744D95MXJOmZq0q0EI01zF',\n",
       "   'artist_uri': 'spotify:artist:6XcJCz7dqlBOyZ0b57SyQp',\n",
       "   'track_name': 'Breeze',\n",
       "   'album_uri': 'spotify:album:17iDD2IRlWyP5G4KMvd9uj',\n",
       "   'duration_ms': 92194,\n",
       "   'album_name': 'Shrines'},\n",
       "  {'pos': 9,\n",
       "   'artist_name': 'Eyeliner',\n",
       "   'track_uri': 'spotify:track:5H7bGLezMnhxcw7EoaPfsc',\n",
       "   'artist_uri': 'spotify:artist:6EZTI4G3MyO1cSSkrBJpgI',\n",
       "   'track_name': 'Toy Dog',\n",
       "   'album_uri': 'spotify:album:0CfFoSKMVSd1T50G4eekah',\n",
       "   'duration_ms': 245456,\n",
       "   'album_name': 'Buy Now'},\n",
       "  {'pos': 10,\n",
       "   'artist_name': 'ESPRIT 空想',\n",
       "   'track_uri': 'spotify:track:44XeYxpuVV2inD0gt3ljf3',\n",
       "   'artist_uri': 'spotify:artist:6eDKMXn3OBIkI8jcY7JtlI',\n",
       "   'track_name': 'Summer Night',\n",
       "   'album_uri': 'spotify:album:5OOxRWTOMYhpib68ilQJTc',\n",
       "   'duration_ms': 179775,\n",
       "   'album_name': 'Summer Night'},\n",
       "  {'pos': 11,\n",
       "   'artist_name': 'Nmesh',\n",
       "   'track_uri': 'spotify:track:3Z89RV5xQxFPzHDXxBER7p',\n",
       "   'artist_uri': 'spotify:artist:5XbtWFLdL2sXDUo3oqzn9b',\n",
       "   'track_name': 'Dream Sequins®',\n",
       "   'album_uri': 'spotify:album:4xK3uw7hjMCjSzknE8VGvi',\n",
       "   'duration_ms': 220319,\n",
       "   'album_name': 'Dream Sequins®'},\n",
       "  {'pos': 12,\n",
       "   'artist_name': 'Windows 98の',\n",
       "   'track_uri': 'spotify:track:5upK65yYhZKF4tp3I0AOni',\n",
       "   'artist_uri': 'spotify:artist:0yDlXlLRU7wwmiGBSVIVbt',\n",
       "   'track_name': 'キャバ嬢',\n",
       "   'album_uri': 'spotify:album:28JNclAUyolmQV5WmLa9Jj',\n",
       "   'duration_ms': 289299,\n",
       "   'album_name': 'これは魂のために'},\n",
       "  {'pos': 13,\n",
       "   'artist_name': 'Dreams West',\n",
       "   'track_uri': 'spotify:track:3z4wXqLQaZR8c9ox5K0NPl',\n",
       "   'artist_uri': 'spotify:artist:3JfCT98EkFbf1l4yAn2yRw',\n",
       "   'track_name': 'Super Gran Turismo',\n",
       "   'album_uri': 'spotify:album:4YMywnZki3tSWXxGpp9LXj',\n",
       "   'duration_ms': 201816,\n",
       "   'album_name': '12:56'},\n",
       "  {'pos': 14,\n",
       "   'artist_name': '18 Carat Affair',\n",
       "   'track_uri': 'spotify:track:61QkubO5ny4DtTFoOaIRGg',\n",
       "   'artist_uri': 'spotify:artist:0va8U409dr4gA1zQ2gSnD5',\n",
       "   'track_name': 'Desire',\n",
       "   'album_uri': 'spotify:album:1l3ok2CuYB8wWKUTm4jssh',\n",
       "   'duration_ms': 98771,\n",
       "   'album_name': 'Vintage Romance'},\n",
       "  {'pos': 15,\n",
       "   'artist_name': 'Moss Of Aura',\n",
       "   'track_uri': 'spotify:track:6Vg5swTQtrqtQuw4FRHHyr',\n",
       "   'artist_uri': 'spotify:artist:0yWtq3VaXTns2rqmEdTGX8',\n",
       "   'track_name': 'Sweat',\n",
       "   'album_uri': 'spotify:album:25P39WbiN8Dx8LGMuH6kzA',\n",
       "   'duration_ms': 183733,\n",
       "   'album_name': 'Wading'},\n",
       "  {'pos': 16,\n",
       "   'artist_name': 'Phil Gerus',\n",
       "   'track_uri': 'spotify:track:3xTzjPkat03Zb9HPFeCMy5',\n",
       "   'artist_uri': 'spotify:artist:1q4zY8qzOsCqIypqC5iQnd',\n",
       "   'track_name': \"Don't Kiss Me While I'm Swimming\",\n",
       "   'album_uri': 'spotify:album:0ZFtyR4lgeVYtrJ0tokHRJ',\n",
       "   'duration_ms': 191804,\n",
       "   'album_name': 'Based On Misunderstandings 05'}],\n",
       " 'num_edits': 6,\n",
       " 'duration_ms': 2990119,\n",
       " 'num_artists': 15}"
      ]
     },
     "execution_count": 56,
     "metadata": {},
     "output_type": "execute_result"
    }
   ],
   "source": [
    "dataset = SpotifyPlaylistDataset()\n",
    "dataset.read_playlist(1020)"
   ]
  },
  {
   "cell_type": "code",
   "execution_count": 61,
   "id": "2a8efd5f",
   "metadata": {},
   "outputs": [
    {
     "name": "stdout",
     "output_type": "stream",
     "text": [
      "Carregando dados da slice 7000-7999\n"
     ]
    },
    {
     "data": {
      "text/plain": [
       "{'name': 'V A P O R W A V E',\n",
       " 'collaborative': 'false',\n",
       " 'pid': 7224,\n",
       " 'modified_at': 1509408000,\n",
       " 'num_tracks': 15,\n",
       " 'num_albums': 10,\n",
       " 'num_followers': 1,\n",
       " 'tracks': [{'pos': 0,\n",
       "   'artist_name': '18 Carat Affair',\n",
       "   'track_uri': 'spotify:track:61QkubO5ny4DtTFoOaIRGg',\n",
       "   'artist_uri': 'spotify:artist:0va8U409dr4gA1zQ2gSnD5',\n",
       "   'track_name': 'Desire',\n",
       "   'album_uri': 'spotify:album:1l3ok2CuYB8wWKUTm4jssh',\n",
       "   'duration_ms': 98771,\n",
       "   'album_name': 'Vintage Romance'},\n",
       "  {'pos': 1,\n",
       "   'artist_name': 'luxury elite',\n",
       "   'track_uri': 'spotify:track:38k3otUd41zKhvUvZU7iUZ',\n",
       "   'artist_uri': 'spotify:artist:28516pIwBLUO62yBiLAfdI',\n",
       "   'track_name': 'Totally Rad',\n",
       "   'album_uri': 'spotify:album:0LOSJF9SLsu9UPamEbfkpj',\n",
       "   'duration_ms': 78251,\n",
       "   'album_name': 'With Love'},\n",
       "  {'pos': 2,\n",
       "   'artist_name': 'luxury elite',\n",
       "   'track_uri': 'spotify:track:2TjAHMFLFsKdXXqaePxwC6',\n",
       "   'artist_uri': 'spotify:artist:28516pIwBLUO62yBiLAfdI',\n",
       "   'track_name': 'Midnight',\n",
       "   'album_uri': 'spotify:album:0LOSJF9SLsu9UPamEbfkpj',\n",
       "   'duration_ms': 161278,\n",
       "   'album_name': 'With Love'},\n",
       "  {'pos': 3,\n",
       "   'artist_name': 'luxury elite',\n",
       "   'track_uri': 'spotify:track:4CwByRtQjwkrnOjWNINV0z',\n",
       "   'artist_uri': 'spotify:artist:28516pIwBLUO62yBiLAfdI',\n",
       "   'track_name': 'Island',\n",
       "   'album_uri': 'spotify:album:0LOSJF9SLsu9UPamEbfkpj',\n",
       "   'duration_ms': 106581,\n",
       "   'album_name': 'With Love'},\n",
       "  {'pos': 4,\n",
       "   'artist_name': '18 Carat Affair',\n",
       "   'track_uri': 'spotify:track:6pDnccriJzA9ntXMXFyjG2',\n",
       "   'artist_uri': 'spotify:artist:0va8U409dr4gA1zQ2gSnD5',\n",
       "   'track_name': 'Passion',\n",
       "   'album_uri': 'spotify:album:1l3ok2CuYB8wWKUTm4jssh',\n",
       "   'duration_ms': 72639,\n",
       "   'album_name': 'Vintage Romance'},\n",
       "  {'pos': 5,\n",
       "   'artist_name': '18 Carat Affair',\n",
       "   'track_uri': 'spotify:track:5lxGff9t9Yv68YX2ar5eca',\n",
       "   'artist_uri': 'spotify:artist:0va8U409dr4gA1zQ2gSnD5',\n",
       "   'track_name': 'Paid Programming',\n",
       "   'album_uri': 'spotify:album:1l3ok2CuYB8wWKUTm4jssh',\n",
       "   'duration_ms': 74092,\n",
       "   'album_name': 'Vintage Romance'},\n",
       "  {'pos': 6,\n",
       "   'artist_name': 'Home',\n",
       "   'track_uri': 'spotify:track:1TuopWDIuDi1553081zvuU',\n",
       "   'artist_uri': 'spotify:artist:2exebQUDoIoT0dXA8BcN1P',\n",
       "   'track_name': 'Resonance',\n",
       "   'album_uri': 'spotify:album:2Nz9gdj35Unk1AbfL8Igmx',\n",
       "   'duration_ms': 212881,\n",
       "   'album_name': 'Odyssey'},\n",
       "  {'pos': 7,\n",
       "   'artist_name': 'Teams',\n",
       "   'track_uri': 'spotify:track:1amdyxHN8pMaSafNSzcdKE',\n",
       "   'artist_uri': 'spotify:artist:6Ju8rLVGq0MMt0NaXyfLJJ',\n",
       "   'track_name': 'Love Distance',\n",
       "   'album_uri': 'spotify:album:7LpUbCFFuUeUuZpbvG4jJ3',\n",
       "   'duration_ms': 202904,\n",
       "   'album_name': 'Love Distance / Glow Fam'},\n",
       "  {'pos': 8,\n",
       "   'artist_name': 'FrankJavCee',\n",
       "   'track_uri': 'spotify:track:0qqRNnwh86N1XBV94GVgQN',\n",
       "   'artist_uri': 'spotify:artist:3nHKeOa45XrUplL3NiGy7E',\n",
       "   'track_name': 'SimpsonWave1995',\n",
       "   'album_uri': 'spotify:album:0Gzj4guppkGrYLKnBnKPvB',\n",
       "   'duration_ms': 142602,\n",
       "   'album_name': 'FrankJavCee Collection, Vol. 1, Pt. II'},\n",
       "  {'pos': 9,\n",
       "   'artist_name': 'Phil Gerus',\n",
       "   'track_uri': 'spotify:track:3xTzjPkat03Zb9HPFeCMy5',\n",
       "   'artist_uri': 'spotify:artist:1q4zY8qzOsCqIypqC5iQnd',\n",
       "   'track_name': \"Don't Kiss Me While I'm Swimming\",\n",
       "   'album_uri': 'spotify:album:0ZFtyR4lgeVYtrJ0tokHRJ',\n",
       "   'duration_ms': 191804,\n",
       "   'album_name': 'Based On Misunderstandings 05'},\n",
       "  {'pos': 10,\n",
       "   'artist_name': 'luxury elite',\n",
       "   'track_uri': 'spotify:track:2X8j1vYJaJZ1vIRp7csg2y',\n",
       "   'artist_uri': 'spotify:artist:28516pIwBLUO62yBiLAfdI',\n",
       "   'track_name': 'S.W.A.K.',\n",
       "   'album_uri': 'spotify:album:6aLiYlTMrvma12uDvlRm5x',\n",
       "   'duration_ms': 234004,\n",
       "   'album_name': 'World Class'},\n",
       "  {'pos': 11,\n",
       "   'artist_name': '18 Carat Affair',\n",
       "   'track_uri': 'spotify:track:3bWe2ZAYEBRNUfzICV2BkA',\n",
       "   'artist_uri': 'spotify:artist:0va8U409dr4gA1zQ2gSnD5',\n",
       "   'track_name': 'Daytona Speed',\n",
       "   'album_uri': 'spotify:album:5pRQPWEMzokiWoq6Q6RyO9',\n",
       "   'duration_ms': 69328,\n",
       "   'album_name': 'Televised Tragedies'},\n",
       "  {'pos': 12,\n",
       "   'artist_name': 'Dan Mason ダン·メイソン',\n",
       "   'track_uri': 'spotify:track:44K1lRG5aUFLQkIKWYbjzQ',\n",
       "   'artist_uri': 'spotify:artist:7ustec6RrECyewmYxf4cIa',\n",
       "   'track_name': 'Waiting for You',\n",
       "   'album_uri': 'spotify:album:5DhCQT0YI1NHXxqfNRFyL7',\n",
       "   'duration_ms': 253727,\n",
       "   'album_name': 'Miami Virtual'},\n",
       "  {'pos': 13,\n",
       "   'artist_name': 'Cosmic Cycler',\n",
       "   'track_uri': 'spotify:track:3ywN7YaxyvzUIa9bZCoIup',\n",
       "   'artist_uri': 'spotify:artist:3XvAJyOGeVmvhg0m26VS4j',\n",
       "   'track_name': 'Waiting for Your Call',\n",
       "   'album_uri': 'spotify:album:2SsToTKO0ussWG6Y1nyIgN',\n",
       "   'duration_ms': 170750,\n",
       "   'album_name': 'After the Cinema'},\n",
       "  {'pos': 14,\n",
       "   'artist_name': 'Home',\n",
       "   'track_uri': 'spotify:track:0Z5r4cmTjEyA62tfSbAbFD',\n",
       "   'artist_uri': 'spotify:artist:2exebQUDoIoT0dXA8BcN1P',\n",
       "   'track_name': 'Come Back Down',\n",
       "   'album_uri': 'spotify:album:2Nz9gdj35Unk1AbfL8Igmx',\n",
       "   'duration_ms': 293052,\n",
       "   'album_name': 'Odyssey'}],\n",
       " 'num_edits': 3,\n",
       " 'duration_ms': 2362664,\n",
       " 'num_artists': 8,\n",
       " 'description': 'The chillest beats in all the land, hand picked just for you.'}"
      ]
     },
     "execution_count": 61,
     "metadata": {},
     "output_type": "execute_result"
    }
   ],
   "source": [
    "dataset.read_playlist(7224)"
   ]
  },
  {
   "cell_type": "code",
   "execution_count": 60,
   "id": "0edd5a29",
   "metadata": {},
   "outputs": [
    {
     "data": {
      "text/plain": [
       "<1x2261616 sparse matrix of type '<class 'numpy.float64'>'\n",
       "\twith 17 stored elements in Compressed Sparse Row format>"
      ]
     },
     "execution_count": 60,
     "metadata": {},
     "output_type": "execute_result"
    }
   ],
   "source": [
    "sm[1020]"
   ]
  },
  {
   "cell_type": "code",
   "execution_count": 37,
   "id": "d1a2697b",
   "metadata": {},
   "outputs": [],
   "source": [
    "tracks2 = pd.read_csv('../tracks/tracks.csv', index_col='id')"
   ]
  },
  {
   "cell_type": "code",
   "execution_count": 42,
   "id": "c539852c",
   "metadata": {},
   "outputs": [
    {
     "data": {
      "text/plain": [
       "name                                                         Ay Yo\n",
       "duration_ms                                                 197533\n",
       "artists             {\"(4O2YL4ygn6eTBC0w1hyWUM,\\\"Melanie Fiona\\\")\"}\n",
       "explicit                                                         f\n",
       "popularity                                                      21\n",
       "acousticness                                                 0.185\n",
       "danceability                                                 0.485\n",
       "energy                                                       0.728\n",
       "instrumentalness                                          0.000001\n",
       "key                                                              1\n",
       "liveness                                                     0.143\n",
       "loudness                                                    -4.903\n",
       "mode                                                             1\n",
       "speechiness                                                 0.0524\n",
       "tempo                                                       87.776\n",
       "time_signature                                                   4\n",
       "Name: spotify:track:7tLWiJdD0kmejSuAQb5WJd, dtype: object"
      ]
     },
     "execution_count": 42,
     "metadata": {},
     "output_type": "execute_result"
    }
   ],
   "source": [
    "tracks2.loc['spotify:track:7tLWiJdD0kmejSuAQb5WJd']"
   ]
  },
  {
   "cell_type": "code",
   "execution_count": null,
   "id": "e71a336b",
   "metadata": {},
   "outputs": [],
   "source": []
  },
  {
   "cell_type": "code",
   "execution_count": null,
   "id": "69397a5d",
   "metadata": {},
   "outputs": [],
   "source": []
  },
  {
   "cell_type": "code",
   "execution_count": null,
   "id": "c24dbdeb",
   "metadata": {},
   "outputs": [],
   "source": []
  },
  {
   "cell_type": "code",
   "execution_count": null,
   "id": "365abe32",
   "metadata": {},
   "outputs": [],
   "source": []
  }
 ],
 "metadata": {
  "kernelspec": {
   "display_name": "Python 3",
   "language": "python",
   "name": "python3"
  },
  "language_info": {
   "codemirror_mode": {
    "name": "ipython",
    "version": 3
   },
   "file_extension": ".py",
   "mimetype": "text/x-python",
   "name": "python",
   "nbconvert_exporter": "python",
   "pygments_lexer": "ipython3",
   "version": "3.8.8"
  }
 },
 "nbformat": 4,
 "nbformat_minor": 5
}
